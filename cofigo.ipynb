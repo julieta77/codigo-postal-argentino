{
 "cells": [
  {
   "cell_type": "code",
   "execution_count": 1,
   "metadata": {},
   "outputs": [],
   "source": [
    "# import libraries\n",
    "from bs4 import BeautifulSoup\n",
    "import requests\n",
    "import pandas as pd "
   ]
  },
  {
   "cell_type": "code",
   "execution_count": 2,
   "metadata": {},
   "outputs": [],
   "source": [
    "def LinkLocalidad(provincia=str):\n",
    "    \"\"\" Esta función recibe una provincia y devuelve los links de cada localidad de la provincia \"\"\"\n",
    "    if provincia != '':\n",
    "        localidadesUrls = []\n",
    "        url = f'https://codigo-postal.co/argentina/{provincia}'\n",
    "        response = requests.get(url)\n",
    "        if response.status_code == 200:\n",
    "            contador = 0\n",
    "            soup = BeautifulSoup(response.content, 'html.parser')\n",
    "            localidades = soup.find('ul',{'class': 'cities'})\n",
    "            for urls in localidades.find_all('a'):\n",
    "                contador += 1\n",
    "                localidadesUrls.append({'provincia':provincia,'idlocalidad': contador,'localidad': urls.text,'url': urls['href']})\n",
    "    return localidadesUrls"
   ]
  },
  {
   "cell_type": "code",
   "execution_count": 3,
   "metadata": {},
   "outputs": [],
   "source": [
    "listaLocalidades = LinkLocalidad('salta')"
   ]
  },
  {
   "cell_type": "code",
   "execution_count": 41,
   "metadata": {},
   "outputs": [
    {
     "data": {
      "text/plain": [
       "[{'provincia': 'salta',\n",
       "  'idlocalidad': 1,\n",
       "  'localidad': '20 de Febrero',\n",
       "  'url': 'https://codigo-postal.co/argentina/salta/20-de-febrero/'},\n",
       " {'provincia': 'salta',\n",
       "  'idlocalidad': 2,\n",
       "  'localidad': 'Ablome',\n",
       "  'url': 'https://codigo-postal.co/argentina/salta/ablome/'},\n",
       " {'provincia': 'salta',\n",
       "  'idlocalidad': 3,\n",
       "  'localidad': 'Abra de Araguyoc',\n",
       "  'url': 'https://codigo-postal.co/argentina/salta/abra-de-araguyoc/'}]"
      ]
     },
     "execution_count": 41,
     "metadata": {},
     "output_type": "execute_result"
    }
   ],
   "source": [
    "listaLocalidades[:3]"
   ]
  },
  {
   "cell_type": "code",
   "execution_count": 5,
   "metadata": {},
   "outputs": [],
   "source": [
    "def CpaLinks(lista=list):\n",
    "    \"\"\" Esta función recibe una lista y devuelve los cpa de las localidades junto con los links de las calles para encontrar el cpa \"\"\"\n",
    "    linkCalles = []\n",
    "    localidadesCpa = []\n",
    "    for elemento in lista:\n",
    "        response = requests.get(elemento['url'])\n",
    "        soup = BeautifulSoup(response.content, 'html.parser')\n",
    "        localidades =soup.find_all('tbody')\n",
    "        for localidad in localidades:\n",
    "            tr = localidad.find_all('tr')\n",
    "            url= localidad.find_all('a')\n",
    "            for index, data in enumerate(url):\n",
    "                if 'Buscar CPA' in data:\n",
    "                    linkCalles.append({'provincia': tr[index].find_all('td')[0].text,'idlocalidad':elemento['idlocalidad'],'localidad': tr[index].find_all('td')[1].text,'linkCalles':data['href']})\n",
    "                else: \n",
    "                    localidadesCpa.append({'provincia': tr[index].find_all('td')[0].text,'idlocalidad':elemento['idlocalidad'],'localidad': tr[index].find_all('td')[1].text, 'pc': tr[index].find_all('td')[2].text, 'cpa':data.text})\n",
    "    return  localidadesCpa, linkCalles"
   ]
  },
  {
   "cell_type": "code",
   "execution_count": 17,
   "metadata": {},
   "outputs": [],
   "source": [
    "listaLocalidades1 = listaLocalidades[:3]"
   ]
  },
  {
   "cell_type": "code",
   "execution_count": 18,
   "metadata": {},
   "outputs": [],
   "source": [
    "data , linkCalles =  CpaLinks(listaLocalidades1)"
   ]
  },
  {
   "cell_type": "code",
   "execution_count": 42,
   "metadata": {},
   "outputs": [],
   "source": [
    "localidad = pd.DataFrame(data)"
   ]
  },
  {
   "cell_type": "code",
   "execution_count": 43,
   "metadata": {},
   "outputs": [
    {
     "data": {
      "text/html": [
       "<div>\n",
       "<style scoped>\n",
       "    .dataframe tbody tr th:only-of-type {\n",
       "        vertical-align: middle;\n",
       "    }\n",
       "\n",
       "    .dataframe tbody tr th {\n",
       "        vertical-align: top;\n",
       "    }\n",
       "\n",
       "    .dataframe thead th {\n",
       "        text-align: right;\n",
       "    }\n",
       "</style>\n",
       "<table border=\"1\" class=\"dataframe\">\n",
       "  <thead>\n",
       "    <tr style=\"text-align: right;\">\n",
       "      <th></th>\n",
       "      <th>provincia</th>\n",
       "      <th>idlocalidad</th>\n",
       "      <th>localidad</th>\n",
       "      <th>pc</th>\n",
       "      <th>cpa</th>\n",
       "    </tr>\n",
       "  </thead>\n",
       "  <tbody>\n",
       "    <tr>\n",
       "      <th>0</th>\n",
       "      <td>Salta</td>\n",
       "      <td>1</td>\n",
       "      <td>20 de Febrero</td>\n",
       "      <td>4425</td>\n",
       "      <td>A4425XBN</td>\n",
       "    </tr>\n",
       "    <tr>\n",
       "      <th>1</th>\n",
       "      <td>Salta</td>\n",
       "      <td>1</td>\n",
       "      <td>Acosta</td>\n",
       "      <td>4425</td>\n",
       "      <td>A4425XAA</td>\n",
       "    </tr>\n",
       "    <tr>\n",
       "      <th>2</th>\n",
       "      <td>Salta</td>\n",
       "      <td>1</td>\n",
       "      <td>Amblayo</td>\n",
       "      <td>4425</td>\n",
       "      <td>A4425XBQ</td>\n",
       "    </tr>\n",
       "    <tr>\n",
       "      <th>3</th>\n",
       "      <td>Salta</td>\n",
       "      <td>1</td>\n",
       "      <td>Bodeguita</td>\n",
       "      <td>4425</td>\n",
       "      <td>A4425XAC</td>\n",
       "    </tr>\n",
       "    <tr>\n",
       "      <th>4</th>\n",
       "      <td>Salta</td>\n",
       "      <td>1</td>\n",
       "      <td>Campos de Alemania</td>\n",
       "      <td>4425</td>\n",
       "      <td>A4425XAB</td>\n",
       "    </tr>\n",
       "    <tr>\n",
       "      <th>...</th>\n",
       "      <td>...</td>\n",
       "      <td>...</td>\n",
       "      <td>...</td>\n",
       "      <td>...</td>\n",
       "      <td>...</td>\n",
       "    </tr>\n",
       "    <tr>\n",
       "      <th>124</th>\n",
       "      <td>Salta</td>\n",
       "      <td>3</td>\n",
       "      <td>Uchuyoc</td>\n",
       "      <td>4633</td>\n",
       "      <td>A4633XAX</td>\n",
       "    </tr>\n",
       "    <tr>\n",
       "      <th>125</th>\n",
       "      <td>Salta</td>\n",
       "      <td>3</td>\n",
       "      <td>Valle Delgado</td>\n",
       "      <td>4633</td>\n",
       "      <td>A4633XAY</td>\n",
       "    </tr>\n",
       "    <tr>\n",
       "      <th>126</th>\n",
       "      <td>Salta</td>\n",
       "      <td>3</td>\n",
       "      <td>Villa Alem</td>\n",
       "      <td>4633</td>\n",
       "      <td>A4633XAT</td>\n",
       "    </tr>\n",
       "    <tr>\n",
       "      <th>127</th>\n",
       "      <td>Jujuy</td>\n",
       "      <td>3</td>\n",
       "      <td>Volcan Higuera</td>\n",
       "      <td>4633</td>\n",
       "      <td>Y4633XAB</td>\n",
       "    </tr>\n",
       "    <tr>\n",
       "      <th>128</th>\n",
       "      <td>Salta</td>\n",
       "      <td>3</td>\n",
       "      <td>Volcan Higueras</td>\n",
       "      <td>4633</td>\n",
       "      <td>A4633XAU</td>\n",
       "    </tr>\n",
       "  </tbody>\n",
       "</table>\n",
       "<p>129 rows × 5 columns</p>\n",
       "</div>"
      ],
      "text/plain": [
       "    provincia  idlocalidad           localidad    pc       cpa\n",
       "0       Salta            1       20 de Febrero  4425  A4425XBN\n",
       "1       Salta            1              Acosta  4425  A4425XAA\n",
       "2       Salta            1             Amblayo  4425  A4425XBQ\n",
       "3       Salta            1           Bodeguita  4425  A4425XAC\n",
       "4       Salta            1  Campos de Alemania  4425  A4425XAB\n",
       "..        ...          ...                 ...   ...       ...\n",
       "124     Salta            3             Uchuyoc  4633  A4633XAX\n",
       "125     Salta            3       Valle Delgado  4633  A4633XAY\n",
       "126     Salta            3          Villa Alem  4633  A4633XAT\n",
       "127     Jujuy            3      Volcan Higuera  4633  Y4633XAB\n",
       "128     Salta            3     Volcan Higueras  4633  A4633XAU\n",
       "\n",
       "[129 rows x 5 columns]"
      ]
     },
     "execution_count": 43,
     "metadata": {},
     "output_type": "execute_result"
    }
   ],
   "source": [
    "localidad"
   ]
  },
  {
   "cell_type": "code",
   "execution_count": 23,
   "metadata": {},
   "outputs": [
    {
     "data": {
      "text/plain": [
       "[{'provincia': 'Salta',\n",
       "  'idlocalidad': 1,\n",
       "  'localidad': 'Guachipas',\n",
       "  'linkCalles': 'https://codigo-postal.co/argentina/salta/calles-de-guachipas/'},\n",
       " {'provincia': 'Salta',\n",
       "  'idlocalidad': 2,\n",
       "  'localidad': 'El Carril',\n",
       "  'linkCalles': 'https://codigo-postal.co/argentina/salta/calles-de-el-carril/'},\n",
       " {'provincia': 'Salta',\n",
       "  'idlocalidad': 3,\n",
       "  'localidad': 'Iruya',\n",
       "  'linkCalles': 'https://codigo-postal.co/argentina/salta/calles-de-iruya/'}]"
      ]
     },
     "execution_count": 23,
     "metadata": {},
     "output_type": "execute_result"
    }
   ],
   "source": [
    "linkCalles"
   ]
  },
  {
   "cell_type": "code",
   "execution_count": 29,
   "metadata": {},
   "outputs": [],
   "source": [
    "def LinkCalle(lista=list):\n",
    "    \"\"\" Esta funcion recibe una lista y devuelve las urls de la calles\"\"\"\n",
    "    contador = 0\n",
    "    urlsCalle = []\n",
    "    for i in lista:\n",
    "        response = requests.get(i['linkCalles'])\n",
    "        soup = BeautifulSoup(response.content, 'html.parser')\n",
    "        calles =soup.find('ul',{'class':\"three_columns\"})\n",
    "        for j in calles.find_all('a'):\n",
    "            contador += 1\n",
    "            urlsCalle.append({'provincia': i['provincia'],'idlocalidad': i['idlocalidad'],'idcalle':contador,'nomnrecalle':j.text,'link':j['href']})\n",
    "    return urlsCalle"
   ]
  },
  {
   "cell_type": "code",
   "execution_count": 30,
   "metadata": {},
   "outputs": [],
   "source": [
    "urlCalles = LinkCalle(linkCalles)"
   ]
  },
  {
   "cell_type": "code",
   "execution_count": 44,
   "metadata": {},
   "outputs": [
    {
     "data": {
      "text/plain": [
       "[{'provincia': 'Salta',\n",
       "  'idlocalidad': 1,\n",
       "  'idcalle': 1,\n",
       "  'nomnrecalle': 'Calle Carlos Gomez Alzaga',\n",
       "  'link': 'https://codigo-postal.co/argentina/salta/guachipas/carlos-gomez-alzaga/'},\n",
       " {'provincia': 'Salta',\n",
       "  'idlocalidad': 1,\n",
       "  'idcalle': 2,\n",
       "  'nomnrecalle': 'Calle Dr Bernardo Frias',\n",
       "  'link': 'https://codigo-postal.co/argentina/salta/guachipas/dr-bernardo-frias/'},\n",
       " {'provincia': 'Salta',\n",
       "  'idlocalidad': 1,\n",
       "  'idcalle': 3,\n",
       "  'nomnrecalle': 'Calle Dr Eugenio Romanou',\n",
       "  'link': 'https://codigo-postal.co/argentina/salta/guachipas/dr-eugenio-romanou/'},\n",
       " {'provincia': 'Salta',\n",
       "  'idlocalidad': 1,\n",
       "  'idcalle': 4,\n",
       "  'nomnrecalle': 'Calle Dr Indalecio Gomez',\n",
       "  'link': 'https://codigo-postal.co/argentina/salta/guachipas/dr-indalecio-gomez/'},\n",
       " {'provincia': 'Salta',\n",
       "  'idlocalidad': 1,\n",
       "  'idcalle': 5,\n",
       "  'nomnrecalle': 'Calle Gral A Saravia',\n",
       "  'link': 'https://codigo-postal.co/argentina/salta/guachipas/gral-a-saravia/'}]"
      ]
     },
     "execution_count": 44,
     "metadata": {},
     "output_type": "execute_result"
    }
   ],
   "source": [
    "urlCalles[:5]"
   ]
  },
  {
   "cell_type": "code",
   "execution_count": 37,
   "metadata": {},
   "outputs": [],
   "source": [
    "def CallePca(lista=list):\n",
    "    \"\"\" Esta funcion recibe una lista y devuelve los cpa de cada calle\"\"\"\n",
    "    cpa = []\n",
    "    for i in lista:\n",
    "        response = requests.get(i['link'])\n",
    "        soup = BeautifulSoup(response.content, 'html.parser')\n",
    "        tabla = soup.find_all('tbody')\n",
    "        for j in tabla:\n",
    "            tr = j.find_all('tr')\n",
    "            for elemento in tr:\n",
    "                cpa.append({'provincia': i['provincia'],'idlocalidad': i['idlocalidad'],'idcalle':i['idcalle'],'calle':elemento.find_all('td')[0].text,'cp':elemento.find_all('td')[4].text, 'cpa':elemento['data-cpa'],'desde':elemento['data-desde'], 'hasta':elemento['data-hasta'],'aplica a':elemento.find_all('td')[3].text})\n",
    "    return cpa"
   ]
  },
  {
   "cell_type": "code",
   "execution_count": 38,
   "metadata": {},
   "outputs": [],
   "source": [
    "pca = CallePca(urlCalles)"
   ]
  },
  {
   "cell_type": "code",
   "execution_count": 45,
   "metadata": {},
   "outputs": [
    {
     "data": {
      "text/plain": [
       "[{'provincia': 'Salta',\n",
       "  'idlocalidad': 2,\n",
       "  'idcalle': 13,\n",
       "  'calle': 'Calle 1 de Mayo',\n",
       "  'cp': '4421',\n",
       "  'cpa': 'A4421BIO',\n",
       "  'desde': '0',\n",
       "  'hasta': '0',\n",
       "  'aplica a': 'números pares'},\n",
       " {'provincia': 'Salta',\n",
       "  'idlocalidad': 2,\n",
       "  'idcalle': 13,\n",
       "  'calle': 'Calle 1 de Mayo',\n",
       "  'cp': '4421',\n",
       "  'cpa': 'A4421AAA',\n",
       "  'desde': '1',\n",
       "  'hasta': '99',\n",
       "  'aplica a': 'números impares'},\n",
       " {'provincia': 'Salta',\n",
       "  'idlocalidad': 2,\n",
       "  'idcalle': 13,\n",
       "  'calle': 'Calle 1 de Mayo',\n",
       "  'cp': '4421',\n",
       "  'cpa': 'A4421AAB',\n",
       "  'desde': '2',\n",
       "  'hasta': '100',\n",
       "  'aplica a': 'números pares'},\n",
       " {'provincia': 'Salta',\n",
       "  'idlocalidad': 2,\n",
       "  'idcalle': 13,\n",
       "  'calle': 'Calle 1 de Mayo',\n",
       "  'cp': '4421',\n",
       "  'cpa': 'A4421AAC',\n",
       "  'desde': '101',\n",
       "  'hasta': '199',\n",
       "  'aplica a': 'números impares'},\n",
       " {'provincia': 'Salta',\n",
       "  'idlocalidad': 2,\n",
       "  'idcalle': 13,\n",
       "  'calle': 'Calle 1 de Mayo',\n",
       "  'cp': '4421',\n",
       "  'cpa': 'A4421AAD',\n",
       "  'desde': '102',\n",
       "  'hasta': '200',\n",
       "  'aplica a': 'números pares'}]"
      ]
     },
     "execution_count": 45,
     "metadata": {},
     "output_type": "execute_result"
    }
   ],
   "source": [
    "pca[:5]"
   ]
  }
 ],
 "metadata": {
  "kernelspec": {
   "display_name": "env",
   "language": "python",
   "name": "python3"
  },
  "language_info": {
   "codemirror_mode": {
    "name": "ipython",
    "version": 3
   },
   "file_extension": ".py",
   "mimetype": "text/x-python",
   "name": "python",
   "nbconvert_exporter": "python",
   "pygments_lexer": "ipython3",
   "version": "3.9.13"
  },
  "orig_nbformat": 4
 },
 "nbformat": 4,
 "nbformat_minor": 2
}
